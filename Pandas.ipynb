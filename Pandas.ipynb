{
 "cells": [
  {
   "cell_type": "code",
   "execution_count": null,
   "metadata": {},
   "outputs": [],
   "source": []
  },
  {
   "cell_type": "markdown",
   "metadata": {},
   "source": [
    "Pandas is a popular open-source library in Python that provides powerful data manipulation and analysis tools. \n",
    "It's a versatile library that can be extremely useful for data manipulation and analysis tasks in Python.\n",
    "Python program that uses the Pandas framework to load, manipulate, and analyze a dataset. In this example, we'll load a CSV file containing information about movies and perform some basic operations:\n",
    "\n",
    "1.Loading Data\n",
    "2.Data Exploration\n",
    "3.Filtering and Selecting Data\n",
    "4.Grouping and Aggregation"
   ]
  },
  {
   "cell_type": "code",
   "execution_count": 1,
   "metadata": {},
   "outputs": [
    {
     "name": "stdout",
     "output_type": "stream",
     "text": [
      "Requirement already satisfied: pandas in /home/codespace/.local/lib/python3.10/site-packages (2.0.3)\n",
      "Requirement already satisfied: python-dateutil>=2.8.2 in /home/codespace/.local/lib/python3.10/site-packages (from pandas) (2.8.2)\n",
      "Requirement already satisfied: pytz>=2020.1 in /home/codespace/.local/lib/python3.10/site-packages (from pandas) (2023.3)\n",
      "Requirement already satisfied: tzdata>=2022.1 in /home/codespace/.local/lib/python3.10/site-packages (from pandas) (2023.3)\n",
      "Requirement already satisfied: numpy>=1.21.0 in /home/codespace/.local/lib/python3.10/site-packages (from pandas) (1.25.2)\n",
      "Requirement already satisfied: six>=1.5 in /home/codespace/.local/lib/python3.10/site-packages (from python-dateutil>=2.8.2->pandas) (1.16.0)\n",
      "Note: you may need to restart the kernel to use updated packages.\n"
     ]
    }
   ],
   "source": [
    "pip install pandas\n"
   ]
  },
  {
   "cell_type": "markdown",
   "metadata": {},
   "source": [
    "Now, let's assume you have a CSV file named \"movies.csv\" with the following contents:\n",
    " the data is defined as a list of dictionaries, and then a DataFrame is created using the Pandas library. This should run without errors and display the DataFrame containing the movie information."
   ]
  },
  {
   "cell_type": "code",
   "execution_count": 11,
   "metadata": {},
   "outputs": [
    {
     "name": "stdout",
     "output_type": "stream",
     "text": [
      "    Title   Genre  Year  Rating\n",
      "0  Movie1  Action  2000     7.5\n",
      "1  Movie2  Comedy  2005     8.2\n",
      "2  Movie3   Drama  2010     6.9\n",
      "3  Movie4  Action  2002     7.1\n",
      "4  Movie5  Comedy  2015     8.5\n"
     ]
    }
   ],
   "source": [
    "import pandas as pd\n",
    "\n",
    "data = [\n",
    "    {'Title': 'Movie1', 'Genre': 'Action', 'Year': 2000, 'Rating': 7.5},\n",
    "    {'Title': 'Movie2', 'Genre': 'Comedy', 'Year': 2005, 'Rating': 8.2},\n",
    "    {'Title': 'Movie3', 'Genre': 'Drama', 'Year': 2010, 'Rating': 6.9},\n",
    "    {'Title': 'Movie4', 'Genre': 'Action', 'Year': 2002, 'Rating': 7.1},\n",
    "    {'Title': 'Movie5', 'Genre': 'Comedy', 'Year': 2015, 'Rating': 8.5}\n",
    "]\n",
    "\n",
    "df = pd.DataFrame(data)\n",
    "print(df)\n"
   ]
  },
  {
   "cell_type": "markdown",
   "metadata": {},
   "source": [
    "Here's the Python program:"
   ]
  },
  {
   "cell_type": "code",
   "execution_count": 7,
   "metadata": {},
   "outputs": [
    {
     "name": "stdout",
     "output_type": "stream",
     "text": [
      "Current Working Directory: /workspaces/Pandas\n"
     ]
    }
   ],
   "source": [
    "import os\n",
    "print(\"Current Working Directory:\", os.getcwd())\n"
   ]
  },
  {
   "cell_type": "code",
   "execution_count": 8,
   "metadata": {},
   "outputs": [
    {
     "name": "stdout",
     "output_type": "stream",
     "text": [
      "['.git', 'README.md', 'Pandas.ipynb']\n"
     ]
    }
   ],
   "source": [
    "import os\n",
    "\n",
    "files_in_directory = os.listdir()\n",
    "print(files_in_directory)\n"
   ]
  },
  {
   "cell_type": "code",
   "execution_count": 12,
   "metadata": {},
   "outputs": [],
   "source": [
    "import pandas as pd\n",
    "\n",
    "# Sample DataFrame\n",
    "data = {'Title': ['Movie1', 'Movie2', 'Movie3'],\n",
    "        'Genre': ['Action', 'Comedy', 'Drama'],\n",
    "        'Year': [2000, 2005, 2010],\n",
    "        'Rating': [7.5, 8.2, 6.9]}\n",
    "\n",
    "df = pd.DataFrame(data)\n",
    "\n",
    "# Specify the filename and write the DataFrame to CSV\n",
    "df.to_csv('movies.csv', index=False)  # index=False prevents writing the row index as a column\n"
   ]
  },
  {
   "cell_type": "code",
   "execution_count": 15,
   "metadata": {},
   "outputs": [
    {
     "name": "stdout",
     "output_type": "stream",
     "text": [
      "Data loaded:\n",
      "    Title   Genre  Year  Rating\n",
      "0  Movie1  Action  2000     7.5\n",
      "1  Movie2  Comedy  2005     8.2\n",
      "2  Movie3   Drama  2010     6.9\n",
      "\n",
      "Basic Stats:\n",
      "Number of rows: 3\n",
      "Number of columns: 4\n",
      "Column names: Index(['Title', 'Genre', 'Year', 'Rating'], dtype='object')\n",
      "\n",
      "Action Movies:\n",
      "    Title   Genre  Year  Rating\n",
      "0  Movie1  Action  2000     7.5\n",
      "\n",
      "Genre-wise Aggregation:\n",
      "        Rating  Year\n",
      "Genre               \n",
      "Action     7.5  2000\n",
      "Comedy     8.2  2005\n",
      "Drama      6.9  2010\n"
     ]
    }
   ],
   "source": [
    "import pandas as pd\n",
    "\n",
    "# Load the CSV file into a DataFrame\n",
    "df = pd.read_csv('movies.csv')\n",
    "\n",
    "# Display the first few rows of the DataFrame\n",
    "print(\"Data loaded:\")\n",
    "print(df)\n",
    "print()\n",
    "\n",
    "# Basic data exploration\n",
    "print(\"Basic Stats:\")\n",
    "print(\"Number of rows:\", df.shape[0])\n",
    "print(\"Number of columns:\", df.shape[1])\n",
    "print(\"Column names:\", df.columns)\n",
    "print()\n",
    "\n",
    "# Filtering and selecting data\n",
    "action_movies = df[df['Genre'] == 'Action']\n",
    "print(\"Action Movies:\")\n",
    "print(action_movies)\n",
    "print()\n",
    "\n",
    "# Grouping and aggregation\n",
    "genre_grouped = df.groupby('Genre').agg({'Rating': 'mean', 'Year': 'max'})\n",
    "print(\"Genre-wise Aggregation:\")\n",
    "print(genre_grouped)\n"
   ]
  }
 ],
 "metadata": {
  "kernelspec": {
   "display_name": "Python 3",
   "language": "python",
   "name": "python3"
  },
  "language_info": {
   "codemirror_mode": {
    "name": "ipython",
    "version": 3
   },
   "file_extension": ".py",
   "mimetype": "text/x-python",
   "name": "python",
   "nbconvert_exporter": "python",
   "pygments_lexer": "ipython3",
   "version": "3.10.8"
  },
  "orig_nbformat": 4
 },
 "nbformat": 4,
 "nbformat_minor": 2
}
